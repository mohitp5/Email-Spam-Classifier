{
 "cells": [
  {
   "cell_type": "markdown",
   "metadata": {
    "id": "v8-ogrwjnBhk"
   },
   "source": [
    "#Email SPAM/HAM Classification "
   ]
  },
  {
   "cell_type": "markdown",
   "metadata": {
    "id": "99mYgvfSJEDL"
   },
   "source": [
    "#Download dataset from Kaggle \n",
    "- Data: https://www.kaggle.com/venky73/spam-mails-dataset\n",
    "- To download data from Kaggle, you need to authenticate with the Kaggle services. For this purpose, you need an API token. This token can be easily generated from the profile section of your Kaggle account -> Create new api token\n",
    "- Reference: https://www.analyticsvidhya.com/blog/2021/06/how-to-load-kaggle-datasets-directly-into-google-colab/"
   ]
  },
  {
   "cell_type": "code",
   "execution_count": 1,
   "metadata": {
    "colab": {
     "base_uri": "https://localhost:8080/"
    },
    "executionInfo": {
     "elapsed": 3790,
     "status": "ok",
     "timestamp": 1644263028997,
     "user": {
      "displayName": "Sujoy Sarkar",
      "photoUrl": "https://lh3.googleusercontent.com/a-/AOh14GjAgZ5M2sCZkfd7xWsQ5AcbHnRSPfBoAwiGQVRIahU=s64",
      "userId": "07483340281681767762"
     },
     "user_tz": -330
    },
    "id": "GIQWh7tBHDDh",
    "outputId": "78acb33c-c1fd-4960-d90b-9d64b81d32f2"
   },
   "outputs": [
    {
     "name": "stdout",
     "output_type": "stream",
     "text": [
      "Collecting kaggle\n",
      "  Using cached kaggle-1.5.13.tar.gz (63 kB)\n",
      "  Preparing metadata (setup.py): started\n",
      "  Preparing metadata (setup.py): finished with status 'done'\n",
      "Requirement already satisfied: six>=1.10 in c:\\users\\sksci\\appdata\\roaming\\python\\python310\\site-packages (from kaggle) (1.16.0)\n",
      "Requirement already satisfied: certifi in c:\\users\\sksci\\appdata\\roaming\\python\\python310\\site-packages (from kaggle) (2022.12.7)\n",
      "Requirement already satisfied: python-dateutil in c:\\users\\sksci\\anaconda3\\lib\\site-packages (from kaggle) (2.8.2)\n",
      "Requirement already satisfied: requests in c:\\users\\sksci\\appdata\\roaming\\python\\python310\\site-packages (from kaggle) (2.28.2)\n",
      "Requirement already satisfied: tqdm in c:\\users\\sksci\\anaconda3\\lib\\site-packages (from kaggle) (4.64.1)\n",
      "Requirement already satisfied: python-slugify in c:\\users\\sksci\\anaconda3\\lib\\site-packages (from kaggle) (5.0.2)\n",
      "Requirement already satisfied: urllib3 in c:\\users\\sksci\\appdata\\roaming\\python\\python310\\site-packages (from kaggle) (1.26.15)\n",
      "Requirement already satisfied: text-unidecode>=1.3 in c:\\users\\sksci\\anaconda3\\lib\\site-packages (from python-slugify->kaggle) (1.3)\n",
      "Requirement already satisfied: idna<4,>=2.5 in c:\\users\\sksci\\appdata\\roaming\\python\\python310\\site-packages (from requests->kaggle) (3.4)\n",
      "Requirement already satisfied: charset-normalizer<4,>=2 in c:\\users\\sksci\\appdata\\roaming\\python\\python310\\site-packages (from requests->kaggle) (3.1.0)\n",
      "Requirement already satisfied: colorama in c:\\users\\sksci\\anaconda3\\lib\\site-packages (from tqdm->kaggle) (0.4.6)\n",
      "Building wheels for collected packages: kaggle\n",
      "  Building wheel for kaggle (setup.py): started\n",
      "  Building wheel for kaggle (setup.py): finished with status 'done'\n",
      "  Created wheel for kaggle: filename=kaggle-1.5.13-py3-none-any.whl size=77729 sha256=58fa93deb7aba956483942ad2d821d10a59e3e325c4bbdd2b46f96fa0e6fc838\n",
      "  Stored in directory: c:\\users\\sksci\\appdata\\local\\pip\\cache\\wheels\\1b\\22\\79\\e73b3e988388377c1cda3385bfa20c1799be101c2e12bbe3dc\n",
      "Successfully built kaggle\n",
      "Installing collected packages: kaggle\n",
      "Successfully installed kaggle-1.5.13\n"
     ]
    }
   ],
   "source": [
    "#Install the Kaggle library\n",
    "!pip install kaggle"
   ]
  },
  {
   "cell_type": "code",
   "execution_count": 2,
   "metadata": {
    "colab": {
     "base_uri": "https://localhost:8080/"
    },
    "executionInfo": {
     "elapsed": 57,
     "status": "ok",
     "timestamp": 1644263029000,
     "user": {
      "displayName": "Sujoy Sarkar",
      "photoUrl": "https://lh3.googleusercontent.com/a-/AOh14GjAgZ5M2sCZkfd7xWsQ5AcbHnRSPfBoAwiGQVRIahU=s64",
      "userId": "07483340281681767762"
     },
     "user_tz": -330
    },
    "id": "MY7ham0AIB4l",
    "outputId": "bd76ce62-6f27-4027-e9f8-e0c9b11e7b9f"
   },
   "outputs": [
    {
     "name": "stderr",
     "output_type": "stream",
     "text": [
      "The syntax of the command is incorrect.\n",
      "'cp' is not recognized as an internal or external command,\n",
      "operable program or batch file.\n",
      "'chmod' is not recognized as an internal or external command,\n",
      "operable program or batch file.\n"
     ]
    }
   ],
   "source": [
    "!mkdir ~/.kaggle\n",
    "!cp kaggle.json ~/.kaggle/\n",
    "#Allocate the required permission for this file\n",
    "!chmod 600 ~/.kaggle/kaggle.json"
   ]
  },
  {
   "cell_type": "code",
   "execution_count": 3,
   "metadata": {
    "colab": {
     "base_uri": "https://localhost:8080/"
    },
    "executionInfo": {
     "elapsed": 1288,
     "status": "ok",
     "timestamp": 1644263030257,
     "user": {
      "displayName": "Sujoy Sarkar",
      "photoUrl": "https://lh3.googleusercontent.com/a-/AOh14GjAgZ5M2sCZkfd7xWsQ5AcbHnRSPfBoAwiGQVRIahU=s64",
      "userId": "07483340281681767762"
     },
     "user_tz": -330
    },
    "id": "oniVsmFbIP5v",
    "outputId": "c2eaa3f9-ffb9-4fa8-8b73-aca9d55f80ec"
   },
   "outputs": [
    {
     "name": "stderr",
     "output_type": "stream",
     "text": [
      "Traceback (most recent call last):\n",
      "  File \"C:\\Users\\sksci\\anaconda3\\lib\\runpy.py\", line 197, in _run_module_as_main\n",
      "    return _run_code(code, main_globals, None,\n",
      "  File \"C:\\Users\\sksci\\anaconda3\\lib\\runpy.py\", line 87, in _run_code\n",
      "    exec(code, run_globals)\n",
      "  File \"C:\\Users\\sksci\\anaconda3\\Scripts\\kaggle.exe\\__main__.py\", line 4, in <module>\n",
      "  File \"C:\\Users\\sksci\\anaconda3\\lib\\site-packages\\kaggle\\__init__.py\", line 23, in <module>\n",
      "    api.authenticate()\n",
      "  File \"C:\\Users\\sksci\\anaconda3\\lib\\site-packages\\kaggle\\api\\kaggle_api_extended.py\", line 164, in authenticate\n",
      "    raise IOError('Could not find {}. Make sure it\\'s located in'\n",
      "OSError: Could not find kaggle.json. Make sure it's located in C:\\Users\\sksci\\.kaggle. Or use the environment method.\n"
     ]
    }
   ],
   "source": [
    "#Download\n",
    "!kaggle datasets download venky73/spam-mails-dataset"
   ]
  },
  {
   "cell_type": "code",
   "execution_count": 4,
   "metadata": {
    "colab": {
     "base_uri": "https://localhost:8080/"
    },
    "executionInfo": {
     "elapsed": 5166,
     "status": "ok",
     "timestamp": 1644263035399,
     "user": {
      "displayName": "Sujoy Sarkar",
      "photoUrl": "https://lh3.googleusercontent.com/a-/AOh14GjAgZ5M2sCZkfd7xWsQ5AcbHnRSPfBoAwiGQVRIahU=s64",
      "userId": "07483340281681767762"
     },
     "user_tz": -330
    },
    "id": "hlfmwm61IxAo",
    "outputId": "a65f4b4f-9603-4ebb-f593-66649dec4281"
   },
   "outputs": [
    {
     "name": "stderr",
     "output_type": "stream",
     "text": [
      "'unzip' is not recognized as an internal or external command,\n",
      "operable program or batch file.\n"
     ]
    }
   ],
   "source": [
    "!unzip spam-mails-dataset.zip"
   ]
  },
  {
   "cell_type": "markdown",
   "metadata": {
    "id": "rxUd-JwTJYoN"
   },
   "source": [
    "- Try: Downloading Gmail mbox dataset"
   ]
  },
  {
   "cell_type": "markdown",
   "metadata": {
    "id": "JqaiO_KoKsht"
   },
   "source": [
    "#Steps:\n",
    "- Step 1: Understand the data\n",
    "- Step 2: Preprocessing\n",
    "  - Stop-Word Removal\n",
    "  - Lower Casing\n",
    "  - Stemming\n",
    "  - Lemmatization\n",
    "  - Tokenization\n",
    "- Step 3: BAG OF WORDS\n",
    "- Step 4: TF-IDF\n",
    "- Step 5: Train Model\n",
    "- Step 6: Evaluation"
   ]
  },
  {
   "cell_type": "markdown",
   "metadata": {
    "id": "x7Cw3YoALbKR"
   },
   "source": [
    "#Imports"
   ]
  },
  {
   "cell_type": "code",
   "execution_count": 3,
   "metadata": {
    "id": "fcjmWIAHJbRg",
    "scrolled": true
   },
   "outputs": [
    {
     "ename": "ImportError",
     "evalue": "cannot import name 'plot_confusion_matrix' from 'sklearn.metrics' (C:\\Users\\sksci\\anaconda3\\lib\\site-packages\\sklearn\\metrics\\__init__.py)",
     "output_type": "error",
     "traceback": [
      "\u001b[1;31m---------------------------------------------------------------------------\u001b[0m",
      "\u001b[1;31mImportError\u001b[0m                               Traceback (most recent call last)",
      "Cell \u001b[1;32mIn[3], line 27\u001b[0m\n\u001b[0;32m     25\u001b[0m \u001b[38;5;66;03m#Evaluation\u001b[39;00m\n\u001b[0;32m     26\u001b[0m \u001b[38;5;28;01mfrom\u001b[39;00m \u001b[38;5;21;01msklearn\u001b[39;00m\u001b[38;5;21;01m.\u001b[39;00m\u001b[38;5;21;01mmodel_selection\u001b[39;00m \u001b[38;5;28;01mimport\u001b[39;00m GridSearchCV\n\u001b[1;32m---> 27\u001b[0m \u001b[38;5;28;01mfrom\u001b[39;00m \u001b[38;5;21;01msklearn\u001b[39;00m\u001b[38;5;21;01m.\u001b[39;00m\u001b[38;5;21;01mmetrics\u001b[39;00m \u001b[38;5;28;01mimport\u001b[39;00m plot_confusion_matrix\n\u001b[0;32m     28\u001b[0m \u001b[38;5;28;01mfrom\u001b[39;00m \u001b[38;5;21;01msklearn\u001b[39;00m\u001b[38;5;21;01m.\u001b[39;00m\u001b[38;5;21;01mmetrics\u001b[39;00m \u001b[38;5;28;01mimport\u001b[39;00m confusion_matrix, precision_score, recall_score, f1_score, accuracy_score\n",
      "\u001b[1;31mImportError\u001b[0m: cannot import name 'plot_confusion_matrix' from 'sklearn.metrics' (C:\\Users\\sksci\\anaconda3\\lib\\site-packages\\sklearn\\metrics\\__init__.py)"
     ]
    }
   ],
   "source": [
    "#Basic\n",
    "import pandas as pd \n",
    "import numpy as np\n",
    "import matplotlib.pyplot as plt\n",
    "import seaborn as sns\n",
    "\n",
    "from collections import Counter\n",
    "import re\n",
    "\n",
    "#Text processing\n",
    "import nltk as nl\n",
    "from nltk.corpus import stopwords\n",
    "from nltk.stem.snowball import SnowballStemmer\n",
    "from nltk.stem import WordNetLemmatizer \n",
    "\n",
    "#Feature extraction and data preparation for model\n",
    "from sklearn.feature_extraction.text import CountVectorizer,TfidfVectorizer\n",
    "from sklearn.model_selection import train_test_split\n",
    "\n",
    "#Model\n",
    "from sklearn.svm import SVC\n",
    "from sklearn.naive_bayes import MultinomialNB, BernoulliNB\n",
    "from sklearn.neural_network import MLPClassifier\n",
    "\n",
    "#Evaluation\n",
    "from sklearn.model_selection import GridSearchCV\n",
    "from sklearn.metrics import plot_confusion_matrix\n",
    "from sklearn.metrics import confusion_matrix, precision_score, recall_score, f1_score, accuracy_score\n"
   ]
  },
  {
   "cell_type": "code",
   "execution_count": 6,
   "metadata": {
    "colab": {
     "base_uri": "https://localhost:8080/"
    },
    "executionInfo": {
     "elapsed": 40,
     "status": "ok",
     "timestamp": 1644263043960,
     "user": {
      "displayName": "Sujoy Sarkar",
      "photoUrl": "https://lh3.googleusercontent.com/a-/AOh14GjAgZ5M2sCZkfd7xWsQ5AcbHnRSPfBoAwiGQVRIahU=s64",
      "userId": "07483340281681767762"
     },
     "user_tz": -330
    },
    "id": "rbtBn3VIL8rs",
    "outputId": "0c60bbf1-820f-4ab8-b52c-1f6e36bf7244"
   },
   "outputs": [
    {
     "name": "stderr",
     "output_type": "stream",
     "text": [
      "[nltk_data] Downloading package wordnet to\n",
      "[nltk_data]     C:\\Users\\sksci\\AppData\\Roaming\\nltk_data...\n",
      "[nltk_data]   Package wordnet is already up-to-date!\n",
      "[nltk_data] Downloading package omw-1.4 to\n",
      "[nltk_data]     C:\\Users\\sksci\\AppData\\Roaming\\nltk_data...\n",
      "[nltk_data]   Package omw-1.4 is already up-to-date!\n",
      "[nltk_data] Downloading package stopwords to\n",
      "[nltk_data]     C:\\Users\\sksci\\AppData\\Roaming\\nltk_data...\n",
      "[nltk_data]   Package stopwords is already up-to-date!\n"
     ]
    },
    {
     "data": {
      "text/plain": [
       "True"
      ]
     },
     "execution_count": 6,
     "metadata": {},
     "output_type": "execute_result"
    }
   ],
   "source": [
    "#Download resources from nltk\n",
    "nl.download('wordnet')\n",
    "nl.download('omw-1.4')\n",
    "nl.download('stopwords')"
   ]
  },
  {
   "cell_type": "code",
   "execution_count": 7,
   "metadata": {
    "id": "8uHa757yMFUW"
   },
   "outputs": [],
   "source": [
    "stop_words = stopwords.words('english')\n",
    "stemmer = SnowballStemmer(\"english\")\n",
    "lemmatizer = WordNetLemmatizer()"
   ]
  },
  {
   "cell_type": "markdown",
   "metadata": {
    "id": "RNmDMsSrMY18"
   },
   "source": [
    "#Text preprocessing methods"
   ]
  },
  {
   "cell_type": "markdown",
   "metadata": {
    "id": "RT3pmbFiNRbb"
   },
   "source": [
    "## Stop words\n",
    "- Stopwords are the most common words in any natural language. For the purpose of analyzing text data and building NLP models, these stopwords might not add much value to the meaning of the document."
   ]
  },
  {
   "cell_type": "code",
   "execution_count": 8,
   "metadata": {
    "colab": {
     "base_uri": "https://localhost:8080/"
    },
    "executionInfo": {
     "elapsed": 19,
     "status": "ok",
     "timestamp": 1644263044810,
     "user": {
      "displayName": "Sujoy Sarkar",
      "photoUrl": "https://lh3.googleusercontent.com/a-/AOh14GjAgZ5M2sCZkfd7xWsQ5AcbHnRSPfBoAwiGQVRIahU=s64",
      "userId": "07483340281681767762"
     },
     "user_tz": -330
    },
    "id": "vIXXgTJkMRqQ",
    "outputId": "2c10cbc8-d472-40d6-f5c8-acd984a9c809"
   },
   "outputs": [
    {
     "name": "stdout",
     "output_type": "stream",
     "text": [
      "['i', 'me', 'my', 'myself', 'we', 'our', 'ours', 'ourselves', 'you', \"you're\"]\n",
      "No of stop words:  179\n"
     ]
    }
   ],
   "source": [
    "print(stop_words[:10])\n",
    "print(\"No of stop words: \", len(stop_words))"
   ]
  },
  {
   "cell_type": "markdown",
   "metadata": {
    "id": "jzPCWHOWNT1i"
   },
   "source": [
    "#Stemming\n",
    "- Stemming, also called suffix stripping, is a technique used to reduce text dimensionality. Stemming is also a type of text normalization that enables you to standardize some words into specific expressions also called stems."
   ]
  },
  {
   "cell_type": "code",
   "execution_count": 9,
   "metadata": {
    "colab": {
     "base_uri": "https://localhost:8080/"
    },
    "executionInfo": {
     "elapsed": 19,
     "status": "ok",
     "timestamp": 1644263044813,
     "user": {
      "displayName": "Sujoy Sarkar",
      "photoUrl": "https://lh3.googleusercontent.com/a-/AOh14GjAgZ5M2sCZkfd7xWsQ5AcbHnRSPfBoAwiGQVRIahU=s64",
      "userId": "07483340281681767762"
     },
     "user_tz": -330
    },
    "id": "oTOX5yt_Nf55",
    "outputId": "4350b528-820b-4143-861b-d247aae1d643"
   },
   "outputs": [
    {
     "name": "stdout",
     "output_type": "stream",
     "text": [
      "program  :  program\n",
      "programs  :  program\n",
      "programmer  :  programm\n",
      "programming  :  program\n",
      "programmers  :  programm\n"
     ]
    }
   ],
   "source": [
    "# choose some words to be stemmed\n",
    "words = [\"program\", \"programs\", \"programmer\", \"programming\", \"programmers\"]\n",
    "#words = [\"likes\", \"liked\", \"likely\", \"liking\"]\n",
    "# words = ['amazement', 'amaze', 'amazed']\n",
    "for w in words:\n",
    "    print(w, \" : \", stemmer.stem(w))"
   ]
  },
  {
   "cell_type": "markdown",
   "metadata": {
    "id": "djbhEDiTPYff"
   },
   "source": [
    "## Lemmatization\n",
    "- Lemmatization is the process of grouping together the different inflected forms of a word so they can be analyzed as a single item. Lemmatization is similar to stemming but it brings context to the words. So it links words with similar meanings to one word. "
   ]
  },
  {
   "cell_type": "code",
   "execution_count": 10,
   "metadata": {
    "colab": {
     "base_uri": "https://localhost:8080/"
    },
    "executionInfo": {
     "elapsed": 1666,
     "status": "ok",
     "timestamp": 1644263046471,
     "user": {
      "displayName": "Sujoy Sarkar",
      "photoUrl": "https://lh3.googleusercontent.com/a-/AOh14GjAgZ5M2sCZkfd7xWsQ5AcbHnRSPfBoAwiGQVRIahU=s64",
      "userId": "07483340281681767762"
     },
     "user_tz": -330
    },
    "id": "GSNCNbh_Pzee",
    "outputId": "2bfa1d0b-3cd5-4f34-8f71-ef867cf1c302"
   },
   "outputs": [
    {
     "name": "stdout",
     "output_type": "stream",
     "text": [
      "program  :  program\n",
      "programs  :  program\n",
      "programmer  :  programmer\n",
      "programming  :  programming\n",
      "programmers  :  programmer\n"
     ]
    },
    {
     "data": {
      "text/plain": [
       "'programmer'"
      ]
     },
     "execution_count": 10,
     "metadata": {},
     "output_type": "execute_result"
    }
   ],
   "source": [
    "words = [\"program\", \"programs\", \"programmer\", \"programming\", \"programmers\"]\n",
    "#words = [\"likes\", \"liked\", \"likely\", \"liking\"]\n",
    "#words = ['amazement', 'amaze', 'amazed']\n",
    "for w in words:\n",
    "    print(w, \" : \", lemmatizer.lemmatize(w))\n",
    "\n",
    "lemmatizer.lemmatize(words[2])"
   ]
  },
  {
   "cell_type": "code",
   "execution_count": 11,
   "metadata": {
    "colab": {
     "base_uri": "https://localhost:8080/"
    },
    "executionInfo": {
     "elapsed": 53,
     "status": "ok",
     "timestamp": 1644263046474,
     "user": {
      "displayName": "Sujoy Sarkar",
      "photoUrl": "https://lh3.googleusercontent.com/a-/AOh14GjAgZ5M2sCZkfd7xWsQ5AcbHnRSPfBoAwiGQVRIahU=s64",
      "userId": "07483340281681767762"
     },
     "user_tz": -330
    },
    "id": "Siqbvh8ZNkjJ",
    "outputId": "4e3caad4-46ae-4697-a039-2288001825c8"
   },
   "outputs": [
    {
     "name": "stdout",
     "output_type": "stream",
     "text": [
      "better : good\n"
     ]
    }
   ],
   "source": [
    "print(\"better :\", lemmatizer.lemmatize(\"better\", pos =\"a\"))"
   ]
  },
  {
   "cell_type": "markdown",
   "metadata": {
    "id": "0kjAb4t6RG3_"
   },
   "source": [
    "#Dataset"
   ]
  },
  {
   "cell_type": "code",
   "execution_count": 12,
   "metadata": {
    "id": "8ujocyhdPytG"
   },
   "outputs": [],
   "source": [
    "dataset = pd.read_csv(\"spam_ham_dataset.csv\")"
   ]
  },
  {
   "cell_type": "code",
   "execution_count": 13,
   "metadata": {
    "colab": {
     "base_uri": "https://localhost:8080/",
     "height": 206
    },
    "executionInfo": {
     "elapsed": 48,
     "status": "ok",
     "timestamp": 1644263046476,
     "user": {
      "displayName": "Sujoy Sarkar",
      "photoUrl": "https://lh3.googleusercontent.com/a-/AOh14GjAgZ5M2sCZkfd7xWsQ5AcbHnRSPfBoAwiGQVRIahU=s64",
      "userId": "07483340281681767762"
     },
     "user_tz": -330
    },
    "id": "0hDwrNI5ROmT",
    "outputId": "844c76e1-9baa-4c97-9674-b4a85c9af9b6"
   },
   "outputs": [
    {
     "data": {
      "text/html": [
       "<div>\n",
       "<style scoped>\n",
       "    .dataframe tbody tr th:only-of-type {\n",
       "        vertical-align: middle;\n",
       "    }\n",
       "\n",
       "    .dataframe tbody tr th {\n",
       "        vertical-align: top;\n",
       "    }\n",
       "\n",
       "    .dataframe thead th {\n",
       "        text-align: right;\n",
       "    }\n",
       "</style>\n",
       "<table border=\"1\" class=\"dataframe\">\n",
       "  <thead>\n",
       "    <tr style=\"text-align: right;\">\n",
       "      <th></th>\n",
       "      <th>Unnamed: 0</th>\n",
       "      <th>label</th>\n",
       "      <th>text</th>\n",
       "      <th>label_num</th>\n",
       "    </tr>\n",
       "  </thead>\n",
       "  <tbody>\n",
       "    <tr>\n",
       "      <th>0</th>\n",
       "      <td>605</td>\n",
       "      <td>ham</td>\n",
       "      <td>Subject: enron methanol ; meter # : 988291\\r\\n...</td>\n",
       "      <td>0</td>\n",
       "    </tr>\n",
       "    <tr>\n",
       "      <th>1</th>\n",
       "      <td>2349</td>\n",
       "      <td>ham</td>\n",
       "      <td>Subject: hpl nom for january 9 , 2001\\r\\n( see...</td>\n",
       "      <td>0</td>\n",
       "    </tr>\n",
       "    <tr>\n",
       "      <th>2</th>\n",
       "      <td>3624</td>\n",
       "      <td>ham</td>\n",
       "      <td>Subject: neon retreat\\r\\nho ho ho , we ' re ar...</td>\n",
       "      <td>0</td>\n",
       "    </tr>\n",
       "    <tr>\n",
       "      <th>3</th>\n",
       "      <td>4685</td>\n",
       "      <td>spam</td>\n",
       "      <td>Subject: photoshop , windows , office . cheap ...</td>\n",
       "      <td>1</td>\n",
       "    </tr>\n",
       "    <tr>\n",
       "      <th>4</th>\n",
       "      <td>2030</td>\n",
       "      <td>ham</td>\n",
       "      <td>Subject: re : indian springs\\r\\nthis deal is t...</td>\n",
       "      <td>0</td>\n",
       "    </tr>\n",
       "  </tbody>\n",
       "</table>\n",
       "</div>"
      ],
      "text/plain": [
       "   Unnamed: 0 label                                               text  \\\n",
       "0         605   ham  Subject: enron methanol ; meter # : 988291\\r\\n...   \n",
       "1        2349   ham  Subject: hpl nom for january 9 , 2001\\r\\n( see...   \n",
       "2        3624   ham  Subject: neon retreat\\r\\nho ho ho , we ' re ar...   \n",
       "3        4685  spam  Subject: photoshop , windows , office . cheap ...   \n",
       "4        2030   ham  Subject: re : indian springs\\r\\nthis deal is t...   \n",
       "\n",
       "   label_num  \n",
       "0          0  \n",
       "1          0  \n",
       "2          0  \n",
       "3          1  \n",
       "4          0  "
      ]
     },
     "execution_count": 13,
     "metadata": {},
     "output_type": "execute_result"
    }
   ],
   "source": [
    "dataset.head()"
   ]
  },
  {
   "cell_type": "code",
   "execution_count": 14,
   "metadata": {
    "colab": {
     "base_uri": "https://localhost:8080/"
    },
    "executionInfo": {
     "elapsed": 42,
     "status": "ok",
     "timestamp": 1644263046477,
     "user": {
      "displayName": "Sujoy Sarkar",
      "photoUrl": "https://lh3.googleusercontent.com/a-/AOh14GjAgZ5M2sCZkfd7xWsQ5AcbHnRSPfBoAwiGQVRIahU=s64",
      "userId": "07483340281681767762"
     },
     "user_tz": -330
    },
    "id": "q3PeBoh-RR8Z",
    "outputId": "bb911a2b-7ef1-4fbf-b618-dd5fbfbd3927"
   },
   "outputs": [
    {
     "name": "stdout",
     "output_type": "stream",
     "text": [
      "<class 'pandas.core.frame.DataFrame'>\n",
      "RangeIndex: 5171 entries, 0 to 5170\n",
      "Data columns (total 4 columns):\n",
      " #   Column      Non-Null Count  Dtype \n",
      "---  ------      --------------  ----- \n",
      " 0   Unnamed: 0  5171 non-null   int64 \n",
      " 1   label       5171 non-null   object\n",
      " 2   text        5171 non-null   object\n",
      " 3   label_num   5171 non-null   int64 \n",
      "dtypes: int64(2), object(2)\n",
      "memory usage: 161.7+ KB\n"
     ]
    }
   ],
   "source": [
    "dataset.info()"
   ]
  },
  {
   "cell_type": "code",
   "execution_count": 15,
   "metadata": {
    "colab": {
     "base_uri": "https://localhost:8080/",
     "height": 206
    },
    "executionInfo": {
     "elapsed": 39,
     "status": "ok",
     "timestamp": 1644263046481,
     "user": {
      "displayName": "Sujoy Sarkar",
      "photoUrl": "https://lh3.googleusercontent.com/a-/AOh14GjAgZ5M2sCZkfd7xWsQ5AcbHnRSPfBoAwiGQVRIahU=s64",
      "userId": "07483340281681767762"
     },
     "user_tz": -330
    },
    "id": "R1je--0JRlX6",
    "outputId": "4a1086ca-a89b-4551-a786-c635f961b026"
   },
   "outputs": [
    {
     "data": {
      "text/html": [
       "<div>\n",
       "<style scoped>\n",
       "    .dataframe tbody tr th:only-of-type {\n",
       "        vertical-align: middle;\n",
       "    }\n",
       "\n",
       "    .dataframe tbody tr th {\n",
       "        vertical-align: top;\n",
       "    }\n",
       "\n",
       "    .dataframe thead th {\n",
       "        text-align: right;\n",
       "    }\n",
       "</style>\n",
       "<table border=\"1\" class=\"dataframe\">\n",
       "  <thead>\n",
       "    <tr style=\"text-align: right;\">\n",
       "      <th></th>\n",
       "      <th>text</th>\n",
       "      <th>label_num</th>\n",
       "    </tr>\n",
       "  </thead>\n",
       "  <tbody>\n",
       "    <tr>\n",
       "      <th>0</th>\n",
       "      <td>Subject: enron methanol ; meter # : 988291\\r\\n...</td>\n",
       "      <td>0</td>\n",
       "    </tr>\n",
       "    <tr>\n",
       "      <th>1</th>\n",
       "      <td>Subject: hpl nom for january 9 , 2001\\r\\n( see...</td>\n",
       "      <td>0</td>\n",
       "    </tr>\n",
       "    <tr>\n",
       "      <th>2</th>\n",
       "      <td>Subject: neon retreat\\r\\nho ho ho , we ' re ar...</td>\n",
       "      <td>0</td>\n",
       "    </tr>\n",
       "    <tr>\n",
       "      <th>3</th>\n",
       "      <td>Subject: photoshop , windows , office . cheap ...</td>\n",
       "      <td>1</td>\n",
       "    </tr>\n",
       "    <tr>\n",
       "      <th>4</th>\n",
       "      <td>Subject: re : indian springs\\r\\nthis deal is t...</td>\n",
       "      <td>0</td>\n",
       "    </tr>\n",
       "  </tbody>\n",
       "</table>\n",
       "</div>"
      ],
      "text/plain": [
       "                                                text  label_num\n",
       "0  Subject: enron methanol ; meter # : 988291\\r\\n...          0\n",
       "1  Subject: hpl nom for january 9 , 2001\\r\\n( see...          0\n",
       "2  Subject: neon retreat\\r\\nho ho ho , we ' re ar...          0\n",
       "3  Subject: photoshop , windows , office . cheap ...          1\n",
       "4  Subject: re : indian springs\\r\\nthis deal is t...          0"
      ]
     },
     "execution_count": 15,
     "metadata": {},
     "output_type": "execute_result"
    }
   ],
   "source": [
    "#Remove secondary fields\n",
    "dataset_mails = dataset.drop(dataset.columns[0:2],axis=1)\n",
    "dataset_mails.head()"
   ]
  },
  {
   "cell_type": "code",
   "execution_count": 16,
   "metadata": {
    "colab": {
     "base_uri": "https://localhost:8080/"
    },
    "executionInfo": {
     "elapsed": 40,
     "status": "ok",
     "timestamp": 1644263046484,
     "user": {
      "displayName": "Sujoy Sarkar",
      "photoUrl": "https://lh3.googleusercontent.com/a-/AOh14GjAgZ5M2sCZkfd7xWsQ5AcbHnRSPfBoAwiGQVRIahU=s64",
      "userId": "07483340281681767762"
     },
     "user_tz": -330
    },
    "id": "QSccY6E4R0rW",
    "outputId": "08ef756d-cdaa-4b09-cdb2-6015bf33be54"
   },
   "outputs": [
    {
     "data": {
      "text/plain": [
       "(5171, 2)"
      ]
     },
     "execution_count": 16,
     "metadata": {},
     "output_type": "execute_result"
    }
   ],
   "source": [
    "dataset_mails.shape"
   ]
  },
  {
   "cell_type": "markdown",
   "metadata": {
    "id": "oIevSB1ySGrT"
   },
   "source": [
    "#Clean text"
   ]
  },
  {
   "cell_type": "code",
   "execution_count": 17,
   "metadata": {
    "id": "4_Cr6ByXR6U4"
   },
   "outputs": [],
   "source": [
    "#The clean text function allows you to convert all letters to lowercase, \n",
    "#remove numbers, punctuation and all words that have less than 3 characters\n",
    "def clean_text(text):\n",
    "    new_text=text.lower()\n",
    "    clean_text= re.sub(\"[^a-z]+\",\" \",new_text)\n",
    "    clean_text_stop_removed = \"\"\n",
    "    for w in clean_text.split(\" \")[1:]:\n",
    "        if not w in stop_words and len(w) > 3:\n",
    "            clean_text_stop_removed += w\n",
    "            clean_text_stop_removed += \" \"\n",
    "            clean_text_stop_removed=lemmatizer.lemmatize(clean_text_stop_removed)\n",
    "            clean_text_stop_removed=stemmer.stem(clean_text_stop_removed)\n",
    "    return clean_text_stop_removed\n"
   ]
  },
  {
   "cell_type": "code",
   "execution_count": 18,
   "metadata": {
    "colab": {
     "base_uri": "https://localhost:8080/"
    },
    "executionInfo": {
     "elapsed": 21,
     "status": "ok",
     "timestamp": 1644263048751,
     "user": {
      "displayName": "Sujoy Sarkar",
      "photoUrl": "https://lh3.googleusercontent.com/a-/AOh14GjAgZ5M2sCZkfd7xWsQ5AcbHnRSPfBoAwiGQVRIahU=s64",
      "userId": "07483340281681767762"
     },
     "user_tz": -330
    },
    "id": "RaofyBorSX64",
    "outputId": "10584d2c-91a5-457f-e959-f9341f7bdb51"
   },
   "outputs": [
    {
     "name": "stdout",
     "output_type": "stream",
     "text": [
      "Subject: re : indian springs\r\n",
      "this deal is to book the teco pvr revenue . it is my understanding that teco\r\n",
      "just sends us a check , i haven ' t received an answer as to whether there is a\r\n",
      "predermined price associated with this deal or if teco just lets us know what\r\n",
      "we are giving . i can continue to chase this deal down if you need .\n"
     ]
    }
   ],
   "source": [
    "print(dataset_mails['text'][4])"
   ]
  },
  {
   "cell_type": "code",
   "execution_count": 19,
   "metadata": {
    "colab": {
     "base_uri": "https://localhost:8080/"
    },
    "executionInfo": {
     "elapsed": 12,
     "status": "ok",
     "timestamp": 1644263048752,
     "user": {
      "displayName": "Sujoy Sarkar",
      "photoUrl": "https://lh3.googleusercontent.com/a-/AOh14GjAgZ5M2sCZkfd7xWsQ5AcbHnRSPfBoAwiGQVRIahU=s64",
      "userId": "07483340281681767762"
     },
     "user_tz": -330
    },
    "id": "TnuWk_lsSlNy",
    "outputId": "bc8f6eb7-fc72-4ddd-dc98-b1a8d1ab15db",
    "scrolled": true
   },
   "outputs": [
    {
     "name": "stdout",
     "output_type": "stream",
     "text": [
      "indian springs deal book teco revenue understanding teco sends check received answer whether predermined price associated deal teco lets know giving continue chase deal need \n"
     ]
    }
   ],
   "source": [
    "print(clean_text(dataset_mails['text'][4]))"
   ]
  },
  {
   "cell_type": "code",
   "execution_count": 20,
   "metadata": {
    "id": "TkFDQntxTJyg"
   },
   "outputs": [],
   "source": [
    "#Apply the function on total dataset\n",
    "dataset_mails[\"text_clean\"] = dataset_mails.text.apply(clean_text)"
   ]
  },
  {
   "cell_type": "code",
   "execution_count": 21,
   "metadata": {
    "colab": {
     "base_uri": "https://localhost:8080/",
     "height": 206
    },
    "executionInfo": {
     "elapsed": 125,
     "status": "ok",
     "timestamp": 1644263165737,
     "user": {
      "displayName": "Sujoy Sarkar",
      "photoUrl": "https://lh3.googleusercontent.com/a-/AOh14GjAgZ5M2sCZkfd7xWsQ5AcbHnRSPfBoAwiGQVRIahU=s64",
      "userId": "07483340281681767762"
     },
     "user_tz": -330
    },
    "id": "HKYVISznUHvM",
    "outputId": "0ee58712-5f42-427e-abf1-1fabaf98e612"
   },
   "outputs": [
    {
     "data": {
      "text/html": [
       "<div>\n",
       "<style scoped>\n",
       "    .dataframe tbody tr th:only-of-type {\n",
       "        vertical-align: middle;\n",
       "    }\n",
       "\n",
       "    .dataframe tbody tr th {\n",
       "        vertical-align: top;\n",
       "    }\n",
       "\n",
       "    .dataframe thead th {\n",
       "        text-align: right;\n",
       "    }\n",
       "</style>\n",
       "<table border=\"1\" class=\"dataframe\">\n",
       "  <thead>\n",
       "    <tr style=\"text-align: right;\">\n",
       "      <th></th>\n",
       "      <th>text</th>\n",
       "      <th>label_num</th>\n",
       "      <th>text_clean</th>\n",
       "    </tr>\n",
       "  </thead>\n",
       "  <tbody>\n",
       "    <tr>\n",
       "      <th>0</th>\n",
       "      <td>Subject: enron methanol ; meter # : 988291\\r\\n...</td>\n",
       "      <td>0</td>\n",
       "      <td>enron methanol meter follow note gave monday p...</td>\n",
       "    </tr>\n",
       "    <tr>\n",
       "      <th>1</th>\n",
       "      <td>Subject: hpl nom for january 9 , 2001\\r\\n( see...</td>\n",
       "      <td>0</td>\n",
       "      <td>january attached file hplnol hplnol</td>\n",
       "    </tr>\n",
       "    <tr>\n",
       "      <th>2</th>\n",
       "      <td>Subject: neon retreat\\r\\nho ho ho , we ' re ar...</td>\n",
       "      <td>0</td>\n",
       "      <td>neon retreat around wonderful time year neon l...</td>\n",
       "    </tr>\n",
       "    <tr>\n",
       "      <th>3</th>\n",
       "      <td>Subject: photoshop , windows , office . cheap ...</td>\n",
       "      <td>1</td>\n",
       "      <td>photoshop windows office cheap main trending a...</td>\n",
       "    </tr>\n",
       "    <tr>\n",
       "      <th>4</th>\n",
       "      <td>Subject: re : indian springs\\r\\nthis deal is t...</td>\n",
       "      <td>0</td>\n",
       "      <td>indian springs deal book teco revenue understa...</td>\n",
       "    </tr>\n",
       "  </tbody>\n",
       "</table>\n",
       "</div>"
      ],
      "text/plain": [
       "                                                text  label_num  \\\n",
       "0  Subject: enron methanol ; meter # : 988291\\r\\n...          0   \n",
       "1  Subject: hpl nom for january 9 , 2001\\r\\n( see...          0   \n",
       "2  Subject: neon retreat\\r\\nho ho ho , we ' re ar...          0   \n",
       "3  Subject: photoshop , windows , office . cheap ...          1   \n",
       "4  Subject: re : indian springs\\r\\nthis deal is t...          0   \n",
       "\n",
       "                                          text_clean  \n",
       "0  enron methanol meter follow note gave monday p...  \n",
       "1               january attached file hplnol hplnol   \n",
       "2  neon retreat around wonderful time year neon l...  \n",
       "3  photoshop windows office cheap main trending a...  \n",
       "4  indian springs deal book teco revenue understa...  "
      ]
     },
     "execution_count": 21,
     "metadata": {},
     "output_type": "execute_result"
    }
   ],
   "source": [
    "dataset_mails.head()"
   ]
  },
  {
   "cell_type": "code",
   "execution_count": 22,
   "metadata": {
    "id": "1mSpSCIIUjtJ"
   },
   "outputs": [],
   "source": [
    "dataset_mails_clean = dataset_mails.drop(dataset_mails.columns[0:1],axis=1)"
   ]
  },
  {
   "cell_type": "code",
   "execution_count": 23,
   "metadata": {
    "id": "VZLmh2WcUkmp"
   },
   "outputs": [],
   "source": [
    "#Add length feature\n",
    "dataset_mails_clean['len'] = dataset_mails_clean['text_clean'].str.len()"
   ]
  },
  {
   "cell_type": "code",
   "execution_count": 24,
   "metadata": {
    "colab": {
     "base_uri": "https://localhost:8080/",
     "height": 206
    },
    "executionInfo": {
     "elapsed": 107,
     "status": "ok",
     "timestamp": 1644263165747,
     "user": {
      "displayName": "Sujoy Sarkar",
      "photoUrl": "https://lh3.googleusercontent.com/a-/AOh14GjAgZ5M2sCZkfd7xWsQ5AcbHnRSPfBoAwiGQVRIahU=s64",
      "userId": "07483340281681767762"
     },
     "user_tz": -330
    },
    "id": "ZV5-DaKtUn4G",
    "outputId": "a4f4f7f9-819a-4f8d-8307-0af090b86883"
   },
   "outputs": [
    {
     "data": {
      "text/html": [
       "<div>\n",
       "<style scoped>\n",
       "    .dataframe tbody tr th:only-of-type {\n",
       "        vertical-align: middle;\n",
       "    }\n",
       "\n",
       "    .dataframe tbody tr th {\n",
       "        vertical-align: top;\n",
       "    }\n",
       "\n",
       "    .dataframe thead th {\n",
       "        text-align: right;\n",
       "    }\n",
       "</style>\n",
       "<table border=\"1\" class=\"dataframe\">\n",
       "  <thead>\n",
       "    <tr style=\"text-align: right;\">\n",
       "      <th></th>\n",
       "      <th>label_num</th>\n",
       "      <th>text_clean</th>\n",
       "      <th>len</th>\n",
       "    </tr>\n",
       "  </thead>\n",
       "  <tbody>\n",
       "    <tr>\n",
       "      <th>0</th>\n",
       "      <td>0</td>\n",
       "      <td>enron methanol meter follow note gave monday p...</td>\n",
       "      <td>202</td>\n",
       "    </tr>\n",
       "    <tr>\n",
       "      <th>1</th>\n",
       "      <td>0</td>\n",
       "      <td>january attached file hplnol hplnol</td>\n",
       "      <td>36</td>\n",
       "    </tr>\n",
       "    <tr>\n",
       "      <th>2</th>\n",
       "      <td>0</td>\n",
       "      <td>neon retreat around wonderful time year neon l...</td>\n",
       "      <td>1294</td>\n",
       "    </tr>\n",
       "    <tr>\n",
       "      <th>3</th>\n",
       "      <td>1</td>\n",
       "      <td>photoshop windows office cheap main trending a...</td>\n",
       "      <td>387</td>\n",
       "    </tr>\n",
       "    <tr>\n",
       "      <th>4</th>\n",
       "      <td>0</td>\n",
       "      <td>indian springs deal book teco revenue understa...</td>\n",
       "      <td>174</td>\n",
       "    </tr>\n",
       "  </tbody>\n",
       "</table>\n",
       "</div>"
      ],
      "text/plain": [
       "   label_num                                         text_clean   len\n",
       "0          0  enron methanol meter follow note gave monday p...   202\n",
       "1          0               january attached file hplnol hplnol     36\n",
       "2          0  neon retreat around wonderful time year neon l...  1294\n",
       "3          1  photoshop windows office cheap main trending a...   387\n",
       "4          0  indian springs deal book teco revenue understa...   174"
      ]
     },
     "execution_count": 24,
     "metadata": {},
     "output_type": "execute_result"
    }
   ],
   "source": [
    "dataset_mails_clean.head()"
   ]
  },
  {
   "cell_type": "markdown",
   "metadata": {
    "id": "jhHXf9nBm-0B"
   },
   "source": [
    "#Visualization"
   ]
  },
  {
   "cell_type": "code",
   "execution_count": 25,
   "metadata": {},
   "outputs": [
    {
     "data": {
      "text/plain": [
       "0    3672\n",
       "1    1499\n",
       "Name: label_num, dtype: int64"
      ]
     },
     "execution_count": 25,
     "metadata": {},
     "output_type": "execute_result"
    }
   ],
   "source": [
    "count_Class=pd.value_counts(dataset_mails_clean[\"label_num\"], sort= True)\n",
    "count_Class"
   ]
  },
  {
   "cell_type": "code",
   "execution_count": 26,
   "metadata": {
    "colab": {
     "base_uri": "https://localhost:8080/",
     "height": 278
    },
    "executionInfo": {
     "elapsed": 94,
     "status": "ok",
     "timestamp": 1644263165748,
     "user": {
      "displayName": "Sujoy Sarkar",
      "photoUrl": "https://lh3.googleusercontent.com/a-/AOh14GjAgZ5M2sCZkfd7xWsQ5AcbHnRSPfBoAwiGQVRIahU=s64",
      "userId": "07483340281681767762"
     },
     "user_tz": -330
    },
    "id": "EgUEI-ZBVgS5",
    "outputId": "5dacb3d0-d436-4563-aea8-0000ea5b46fe"
   },
   "outputs": [
    {
     "data": {
      "image/png": "[encoded data removed]",
      "text/plain": [
       "<Figure size 300x400 with 1 Axes>"
      ]
     },
     "metadata": {},
     "output_type": "display_data"
    }
   ],
   "source": [
    "#Bar plot of class labels\n",
    "plt.rcParams['figure.figsize'] = (3, 4)\n",
    "count_Class.plot(kind= 'bar', color= [\"blue\", \"orange\"])\n",
    "plt.title('Bar chart')\n",
    "plt.show()"
   ]
  },
  {
   "cell_type": "markdown",
   "metadata": {
    "id": "1OYbALgCVKyt"
   },
   "source": [
    "##Visualization of text length in spam and non-spam"
   ]
  },
  {
   "cell_type": "code",
   "execution_count": 27,
   "metadata": {
    "colab": {
     "base_uri": "https://localhost:8080/",
     "height": 459
    },
    "executionInfo": {
     "elapsed": 89,
     "status": "ok",
     "timestamp": 1644263165750,
     "user": {
      "displayName": "Sujoy Sarkar",
      "photoUrl": "https://lh3.googleusercontent.com/a-/AOh14GjAgZ5M2sCZkfd7xWsQ5AcbHnRSPfBoAwiGQVRIahU=s64",
      "userId": "07483340281681767762"
     },
     "user_tz": -330
    },
    "id": "0AIjIGUtUrwm",
    "outputId": "20de5f06-3fd4-44dd-d1ce-d9be0f2c0007"
   },
   "outputs": [
    {
     "data": {
      "image/png": "[encoded data removed]",
      "text/plain": [
       "<Figure size 1000x700 with 1 Axes>"
      ]
     },
     "metadata": {},
     "output_type": "display_data"
    }
   ],
   "source": [
    "# It is similar to a box plot in plotting a nonparametric representation \n",
    "#of a distribution in which all features correspond to actual observations. \n",
    "#By plotting more quantiles, it provides more information about the shape \n",
    "#of the distribution, particularly in the tails.\n",
    "plt.rcParams['figure.figsize'] = (10, 7)\n",
    "sns.boxenplot(x = dataset_mails_clean['label_num'], y = dataset_mails_clean['len'])\n",
    "plt.title('relationship between spam and text length')\n",
    "plt.show()"
   ]
  },
  {
   "cell_type": "markdown",
   "metadata": {
    "id": "8xkIMM3UoThG"
   },
   "source": [
    "##Word frequency"
   ]
  },
  {
   "cell_type": "code",
   "execution_count": 28,
   "metadata": {
    "id": "TfKq2Hv8VaJ4"
   },
   "outputs": [
    {
     "name": "stdout",
     "output_type": "stream",
     "text": [
      "   words in non-spam  count\n",
      "0              enron   6555\n",
      "1               deal   2789\n",
      "2            subject   2731\n",
      "3             please   2715\n",
      "4              meter   2459\n",
      "5              daren   1901\n",
      "6             thanks   1813\n",
      "7               corp   1710\n",
      "8               know   1438\n",
      "9              mmbtu   1349\n",
      "10         forwarded   1296\n",
      "11              need   1257\n",
      "12            farmer   1137\n",
      "13          attached   1083\n",
      "14          contract    883\n",
      "15            volume    877\n",
      "16             would    875\n",
      "17            robert    875\n",
      "18            sitara    861\n",
      "19             texas    796\n"
     ]
    },
    {
     "data": {
      "text/html": [
       "<div>\n",
       "<style scoped>\n",
       "    .dataframe tbody tr th:only-of-type {\n",
       "        vertical-align: middle;\n",
       "    }\n",
       "\n",
       "    .dataframe tbody tr th {\n",
       "        vertical-align: top;\n",
       "    }\n",
       "\n",
       "    .dataframe thead th {\n",
       "        text-align: right;\n",
       "    }\n",
       "</style>\n",
       "<table border=\"1\" class=\"dataframe\">\n",
       "  <thead>\n",
       "    <tr style=\"text-align: right;\">\n",
       "      <th></th>\n",
       "      <th>words in spam</th>\n",
       "      <th>count_</th>\n",
       "    </tr>\n",
       "  </thead>\n",
       "  <tbody>\n",
       "    <tr>\n",
       "      <th>0</th>\n",
       "      <td>http</td>\n",
       "      <td>983</td>\n",
       "    </tr>\n",
       "    <tr>\n",
       "      <th>1</th>\n",
       "      <td>company</td>\n",
       "      <td>728</td>\n",
       "    </tr>\n",
       "    <tr>\n",
       "      <th>2</th>\n",
       "      <td>information</td>\n",
       "      <td>520</td>\n",
       "    </tr>\n",
       "    <tr>\n",
       "      <th>3</th>\n",
       "      <td>font</td>\n",
       "      <td>515</td>\n",
       "    </tr>\n",
       "    <tr>\n",
       "      <th>4</th>\n",
       "      <td>please</td>\n",
       "      <td>483</td>\n",
       "    </tr>\n",
       "    <tr>\n",
       "      <th>5</th>\n",
       "      <td>statements</td>\n",
       "      <td>476</td>\n",
       "    </tr>\n",
       "    <tr>\n",
       "      <th>6</th>\n",
       "      <td>email</td>\n",
       "      <td>474</td>\n",
       "    </tr>\n",
       "    <tr>\n",
       "      <th>7</th>\n",
       "      <td>price</td>\n",
       "      <td>471</td>\n",
       "    </tr>\n",
       "    <tr>\n",
       "      <th>8</th>\n",
       "      <td>nbsp</td>\n",
       "      <td>418</td>\n",
       "    </tr>\n",
       "    <tr>\n",
       "      <th>9</th>\n",
       "      <td>height</td>\n",
       "      <td>362</td>\n",
       "    </tr>\n",
       "    <tr>\n",
       "      <th>10</th>\n",
       "      <td>time</td>\n",
       "      <td>361</td>\n",
       "    </tr>\n",
       "    <tr>\n",
       "      <th>11</th>\n",
       "      <td>within</td>\n",
       "      <td>313</td>\n",
       "    </tr>\n",
       "    <tr>\n",
       "      <th>12</th>\n",
       "      <td>free</td>\n",
       "      <td>313</td>\n",
       "    </tr>\n",
       "    <tr>\n",
       "      <th>13</th>\n",
       "      <td>pills</td>\n",
       "      <td>311</td>\n",
       "    </tr>\n",
       "    <tr>\n",
       "      <th>14</th>\n",
       "      <td>size</td>\n",
       "      <td>306</td>\n",
       "    </tr>\n",
       "    <tr>\n",
       "      <th>15</th>\n",
       "      <td>width</td>\n",
       "      <td>306</td>\n",
       "    </tr>\n",
       "    <tr>\n",
       "      <th>16</th>\n",
       "      <td>stock</td>\n",
       "      <td>299</td>\n",
       "    </tr>\n",
       "    <tr>\n",
       "      <th>17</th>\n",
       "      <td>message</td>\n",
       "      <td>297</td>\n",
       "    </tr>\n",
       "    <tr>\n",
       "      <th>18</th>\n",
       "      <td>money</td>\n",
       "      <td>295</td>\n",
       "    </tr>\n",
       "    <tr>\n",
       "      <th>19</th>\n",
       "      <td>investment</td>\n",
       "      <td>289</td>\n",
       "    </tr>\n",
       "  </tbody>\n",
       "</table>\n",
       "</div>"
      ],
      "text/plain": [
       "   words in spam  count_\n",
       "0           http     983\n",
       "1        company     728\n",
       "2    information     520\n",
       "3           font     515\n",
       "4         please     483\n",
       "5     statements     476\n",
       "6          email     474\n",
       "7          price     471\n",
       "8           nbsp     418\n",
       "9         height     362\n",
       "10          time     361\n",
       "11        within     313\n",
       "12          free     313\n",
       "13         pills     311\n",
       "14          size     306\n",
       "15         width     306\n",
       "16         stock     299\n",
       "17       message     297\n",
       "18         money     295\n",
       "19    investment     289"
      ]
     },
     "execution_count": 28,
     "metadata": {},
     "output_type": "execute_result"
    }
   ],
   "source": [
    "count1 = Counter(\" \".join(dataset_mails_clean[dataset_mails_clean['label_num']==0][\"text_clean\"]).split()).most_common(20)\n",
    "df1 = pd.DataFrame.from_dict(count1)\n",
    "df1 = df1.rename(columns={0: \"words in non-spam\", 1 : \"count\"})\n",
    "count2 = Counter(\" \".join(dataset_mails_clean[dataset_mails_clean['label_num']==1][\"text_clean\"]).split()).most_common(20)\n",
    "df2 = pd.DataFrame.from_dict(count2)\n",
    "df2 = df2.rename(columns={0: \"words in spam\", 1 : \"count_\"})\n",
    "print(df1)\n",
    "df2"
   ]
  },
  {
   "cell_type": "code",
   "execution_count": 32,
   "metadata": {
    "colab": {
     "base_uri": "https://localhost:8080/",
     "height": 336
    },
    "executionInfo": {
     "elapsed": 845,
     "status": "ok",
     "timestamp": 1644263166517,
     "user": {
      "displayName": "Sujoy Sarkar",
      "photoUrl": "https://lh3.googleusercontent.com/a-/AOh14GjAgZ5M2sCZkfd7xWsQ5AcbHnRSPfBoAwiGQVRIahU=s64",
      "userId": "07483340281681767762"
     },
     "user_tz": -330
    },
    "id": "w_SnjLvYVx7n",
    "outputId": "077b75d6-04c5-43dd-c72b-8f3545b44549"
   },
   "outputs": [
    {
     "data": {
      "image/png": "[encoded data removed]",
      "text/plain": [
       "<Figure size 600x400 with 1 Axes>"
      ]
     },
     "metadata": {},
     "output_type": "display_data"
    }
   ],
   "source": [
    "plt.rcParams['figure.figsize'] = (6, 4)\n",
    "df1.plot.bar(legend = False)\n",
    "y_pos = np.arange(len(df1[\"words in non-spam\"]))\n",
    "plt.xticks(y_pos, df1[\"words in non-spam\"])\n",
    "plt.title('Most frequent words in non-spam messages')\n",
    "plt.xlabel('words')\n",
    "plt.ylabel('number')\n",
    "plt.show()"
   ]
  },
  {
   "cell_type": "code",
   "execution_count": 33,
   "metadata": {
    "colab": {
     "base_uri": "https://localhost:8080/",
     "height": 343
    },
    "executionInfo": {
     "elapsed": 1099,
     "status": "ok",
     "timestamp": 1644263167598,
     "user": {
      "displayName": "Sujoy Sarkar",
      "photoUrl": "https://lh3.googleusercontent.com/a-/AOh14GjAgZ5M2sCZkfd7xWsQ5AcbHnRSPfBoAwiGQVRIahU=s64",
      "userId": "07483340281681767762"
     },
     "user_tz": -330
    },
    "id": "L3ZszQyqV0R_",
    "outputId": "740e106b-3589-4f89-dfe2-9af1e3e723a3"
   },
   "outputs": [
    {
     "data": {
      "image/png": "[encoded data removed]",
      "text/plain": [
       "<Figure size 600x400 with 1 Axes>"
      ]
     },
     "metadata": {},
     "output_type": "display_data"
    }
   ],
   "source": [
    "plt.rcParams['figure.figsize'] = (6, 4)\n",
    "df2.plot.bar(legend = False, color = 'orange')\n",
    "y_pos = np.arange(len(df2[\"words in spam\"]))\n",
    "plt.xticks(y_pos, df2[\"words in spam\"])\n",
    "plt.title('Most frequent words in spam messagess')\n",
    "plt.xlabel('words')\n",
    "plt.ylabel('number')\n",
    "plt.show()\n"
   ]
  },
  {
   "cell_type": "code",
   "execution_count": 29,
   "metadata": {
    "colab": {
     "base_uri": "https://localhost:8080/",
     "height": 449
    },
    "executionInfo": {
     "elapsed": 2902,
     "status": "ok",
     "timestamp": 1644263170478,
     "user": {
      "displayName": "Sujoy Sarkar",
      "photoUrl": "https://lh3.googleusercontent.com/a-/AOh14GjAgZ5M2sCZkfd7xWsQ5AcbHnRSPfBoAwiGQVRIahU=s64",
      "userId": "07483340281681767762"
     },
     "user_tz": -330
    },
    "id": "f-vVfBkQV3os",
    "outputId": "1560d496-1556-4430-a621-ffd8929d0c3c"
   },
   "outputs": [
    {
     "ename": "ModuleNotFoundError",
     "evalue": "No module named 'wordcloud'",
     "output_type": "error",
     "traceback": [
      "\u001b[1;31m---------------------------------------------------------------------------\u001b[0m",
      "\u001b[1;31mModuleNotFoundError\u001b[0m                       Traceback (most recent call last)",
      "\u001b[1;32m~\\AppData\\Local\\Temp\\ipykernel_21676\\1063432566.py\u001b[0m in \u001b[0;36m<module>\u001b[1;34m\u001b[0m\n\u001b[1;32m----> 1\u001b[1;33m \u001b[1;32mfrom\u001b[0m \u001b[0mwordcloud\u001b[0m \u001b[1;32mimport\u001b[0m \u001b[0mWordCloud\u001b[0m\u001b[1;33m\u001b[0m\u001b[1;33m\u001b[0m\u001b[0m\n\u001b[0m\u001b[0;32m      2\u001b[0m \u001b[1;31m# text = ' '.join(dataset_mails_clean.text_clean.values)\u001b[0m\u001b[1;33m\u001b[0m\u001b[1;33m\u001b[0m\u001b[0m\n\u001b[0;32m      3\u001b[0m \u001b[0mtext\u001b[0m \u001b[1;33m=\u001b[0m \u001b[1;34m' '\u001b[0m\u001b[1;33m.\u001b[0m\u001b[0mjoin\u001b[0m\u001b[1;33m(\u001b[0m\u001b[0mdataset_mails_clean\u001b[0m\u001b[1;33m[\u001b[0m\u001b[0mdataset_mails_clean\u001b[0m\u001b[1;33m[\u001b[0m\u001b[1;34m'label_num'\u001b[0m\u001b[1;33m]\u001b[0m\u001b[1;33m==\u001b[0m\u001b[1;36m1\u001b[0m\u001b[1;33m]\u001b[0m\u001b[1;33m.\u001b[0m\u001b[0mtext_clean\u001b[0m\u001b[1;33m.\u001b[0m\u001b[0mvalues\u001b[0m\u001b[1;33m)\u001b[0m\u001b[1;33m\u001b[0m\u001b[1;33m\u001b[0m\u001b[0m\n\u001b[0;32m      4\u001b[0m \u001b[1;33m\u001b[0m\u001b[0m\n\u001b[0;32m      5\u001b[0m \u001b[0mwordcloud\u001b[0m \u001b[1;33m=\u001b[0m \u001b[0mWordCloud\u001b[0m\u001b[1;33m(\u001b[0m\u001b[0mmax_font_size\u001b[0m\u001b[1;33m=\u001b[0m\u001b[1;36m50\u001b[0m\u001b[1;33m,\u001b[0m \u001b[0mmax_words\u001b[0m\u001b[1;33m=\u001b[0m\u001b[1;36m1000\u001b[0m\u001b[1;33m,\u001b[0m \u001b[0mbackground_color\u001b[0m\u001b[1;33m=\u001b[0m\u001b[1;34m\"grey\"\u001b[0m\u001b[1;33m,\u001b[0m  \u001b[0mcolormap\u001b[0m\u001b[1;33m=\u001b[0m\u001b[1;34m'BuGn'\u001b[0m\u001b[1;33m)\u001b[0m\u001b[1;33m.\u001b[0m\u001b[0mgenerate\u001b[0m\u001b[1;33m(\u001b[0m\u001b[0mtext\u001b[0m\u001b[1;33m.\u001b[0m\u001b[0mlower\u001b[0m\u001b[1;33m(\u001b[0m\u001b[1;33m)\u001b[0m\u001b[1;33m)\u001b[0m\u001b[1;33m\u001b[0m\u001b[1;33m\u001b[0m\u001b[0m\n",
      "\u001b[1;31mModuleNotFoundError\u001b[0m: No module named 'wordcloud'"
     ]
    }
   ],
   "source": [
    "from wordcloud import WordCloud\n",
    "# text = ' '.join(dataset_mails_clean.text_clean.values)\n",
    "text = ' '.join(dataset_mails_clean[dataset_mails_clean['label_num']==1].text_clean.values)\n",
    "\n",
    "wordcloud = WordCloud(max_font_size=50, max_words=1000, background_color=\"grey\",  colormap='BuGn').generate(text.lower())\n",
    "plt.figure(figsize=(15,15))\n",
    "plt.imshow(wordcloud, interpolation=\"bilinear\")\n",
    "plt.axis(\"off\")\n",
    "plt.show()"
   ]
  },
  {
   "cell_type": "markdown",
   "metadata": {
    "id": "aDw1hVyMob0i"
   },
   "source": [
    "#Train Test Data"
   ]
  },
  {
   "cell_type": "code",
   "execution_count": 30,
   "metadata": {
    "id": "twPuUVMfW5B2"
   },
   "outputs": [],
   "source": [
    "x = dataset_mails_clean['text_clean']\n",
    "y = dataset_mails_clean['label_num']"
   ]
  },
  {
   "cell_type": "code",
   "execution_count": 31,
   "metadata": {
    "id": "U9bA5oTcXlS_"
   },
   "outputs": [],
   "source": [
    "x_train, x_test, y_train, y_test = train_test_split(x,y,test_size = 0.2)"
   ]
  },
  {
   "cell_type": "code",
   "execution_count": 32,
   "metadata": {
    "colab": {
     "base_uri": "https://localhost:8080/"
    },
    "executionInfo": {
     "elapsed": 91,
     "status": "ok",
     "timestamp": 1644263170501,
     "user": {
      "displayName": "Sujoy Sarkar",
      "photoUrl": "https://lh3.googleusercontent.com/a-/AOh14GjAgZ5M2sCZkfd7xWsQ5AcbHnRSPfBoAwiGQVRIahU=s64",
      "userId": "07483340281681767762"
     },
     "user_tz": -330
    },
    "id": "6xyXRj10Xnoi",
    "outputId": "8ec36705-70a6-4332-d84a-ae7529b0dea5"
   },
   "outputs": [
    {
     "name": "stdout",
     "output_type": "stream",
     "text": [
      "(4136,) (1035,)\n"
     ]
    }
   ],
   "source": [
    "print(x_train.shape, x_test.shape)"
   ]
  },
  {
   "cell_type": "code",
   "execution_count": 33,
   "metadata": {
    "colab": {
     "base_uri": "https://localhost:8080/"
    },
    "executionInfo": {
     "elapsed": 66,
     "status": "ok",
     "timestamp": 1644263170503,
     "user": {
      "displayName": "Sujoy Sarkar",
      "photoUrl": "https://lh3.googleusercontent.com/a-/AOh14GjAgZ5M2sCZkfd7xWsQ5AcbHnRSPfBoAwiGQVRIahU=s64",
      "userId": "07483340281681767762"
     },
     "user_tz": -330
    },
    "id": "WROVO-4pXqcL",
    "outputId": "9f4c6a55-a267-4d23-9b93-b29e7e0a10bb"
   },
   "outputs": [
    {
     "name": "stdout",
     "output_type": "stream",
     "text": [
      "Samples per class in train [2957 1179]\n",
      "Samples per class in test [715 320]\n"
     ]
    }
   ],
   "source": [
    "print(\"Samples per class in train {}\".format(np.bincount(y_train)))\n",
    "print(\"Samples per class in test {}\".format(np.bincount(y_test)))"
   ]
  },
  {
   "cell_type": "markdown",
   "metadata": {
    "id": "lmVMaL8CkE7j"
   },
   "source": [
    "#Feature Extraction: Bag of words"
   ]
  },
  {
   "cell_type": "markdown",
   "metadata": {
    "id": "dSx9EOvho0aH"
   },
   "source": [
    "![1 3IACMnNpwVlCl8kSTJocPA.png](data:image/png;base64,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)"
   ]
  },
  {
   "cell_type": "code",
   "execution_count": 41,
   "metadata": {
    "id": "kfKeda4BXtvG"
   },
   "outputs": [],
   "source": [
    "bow_vec = TfidfVectorizer()\n",
    "train_bow = bow_vec.fit_transform(x_train)\n",
    "test_bow = bow_vec.transform(x_test) #Why only transform?"
   ]
  },
  {
   "cell_type": "code",
   "execution_count": 45,
   "metadata": {
    "colab": {
     "base_uri": "https://localhost:8080/",
     "height": 300
    },
    "executionInfo": {
     "elapsed": 1067,
     "status": "ok",
     "timestamp": 1644263171521,
     "user": {
      "displayName": "Sujoy Sarkar",
      "photoUrl": "https://lh3.googleusercontent.com/a-/AOh14GjAgZ5M2sCZkfd7xWsQ5AcbHnRSPfBoAwiGQVRIahU=s64",
      "userId": "07483340281681767762"
     },
     "user_tz": -330
    },
    "id": "yTO21VVoX0J3",
    "outputId": "745bf271-fd4d-4432-f39f-634b78cbe1db"
   },
   "outputs": [
    {
     "data": {
      "text/html": [
       "<div>\n",
       "<style scoped>\n",
       "    .dataframe tbody tr th:only-of-type {\n",
       "        vertical-align: middle;\n",
       "    }\n",
       "\n",
       "    .dataframe tbody tr th {\n",
       "        vertical-align: top;\n",
       "    }\n",
       "\n",
       "    .dataframe thead th {\n",
       "        text-align: right;\n",
       "    }\n",
       "</style>\n",
       "<table border=\"1\" class=\"dataframe\">\n",
       "  <thead>\n",
       "    <tr style=\"text-align: right;\">\n",
       "      <th></th>\n",
       "      <th>aaas</th>\n",
       "      <th>aabda</th>\n",
       "      <th>aabvmmq</th>\n",
       "      <th>aachecar</th>\n",
       "      <th>aaer</th>\n",
       "      <th>aafco</th>\n",
       "      <th>aaiabe</th>\n",
       "      <th>aaigrcrb</th>\n",
       "      <th>aaihmqv</th>\n",
       "      <th>aaldano</th>\n",
       "      <th>...</th>\n",
       "      <th>zxklh</th>\n",
       "      <th>zyban</th>\n",
       "      <th>zyjvit</th>\n",
       "      <th>zykfe</th>\n",
       "      <th>zynve</th>\n",
       "      <th>zyqtaqlt</th>\n",
       "      <th>zyrtec</th>\n",
       "      <th>zyyqywp</th>\n",
       "      <th>zzso</th>\n",
       "      <th>zzsyt</th>\n",
       "    </tr>\n",
       "  </thead>\n",
       "  <tbody>\n",
       "    <tr>\n",
       "      <th>0</th>\n",
       "      <td>0.0</td>\n",
       "      <td>0.0</td>\n",
       "      <td>0.0</td>\n",
       "      <td>0.0</td>\n",
       "      <td>0.0</td>\n",
       "      <td>0.0</td>\n",
       "      <td>0.0</td>\n",
       "      <td>0.0</td>\n",
       "      <td>0.0</td>\n",
       "      <td>0.0</td>\n",
       "      <td>...</td>\n",
       "      <td>0.0</td>\n",
       "      <td>0.0</td>\n",
       "      <td>0.0</td>\n",
       "      <td>0.0</td>\n",
       "      <td>0.0</td>\n",
       "      <td>0.0</td>\n",
       "      <td>0.0</td>\n",
       "      <td>0.0</td>\n",
       "      <td>0.0</td>\n",
       "      <td>0.0</td>\n",
       "    </tr>\n",
       "    <tr>\n",
       "      <th>1</th>\n",
       "      <td>0.0</td>\n",
       "      <td>0.0</td>\n",
       "      <td>0.0</td>\n",
       "      <td>0.0</td>\n",
       "      <td>0.0</td>\n",
       "      <td>0.0</td>\n",
       "      <td>0.0</td>\n",
       "      <td>0.0</td>\n",
       "      <td>0.0</td>\n",
       "      <td>0.0</td>\n",
       "      <td>...</td>\n",
       "      <td>0.0</td>\n",
       "      <td>0.0</td>\n",
       "      <td>0.0</td>\n",
       "      <td>0.0</td>\n",
       "      <td>0.0</td>\n",
       "      <td>0.0</td>\n",
       "      <td>0.0</td>\n",
       "      <td>0.0</td>\n",
       "      <td>0.0</td>\n",
       "      <td>0.0</td>\n",
       "    </tr>\n",
       "    <tr>\n",
       "      <th>2</th>\n",
       "      <td>0.0</td>\n",
       "      <td>0.0</td>\n",
       "      <td>0.0</td>\n",
       "      <td>0.0</td>\n",
       "      <td>0.0</td>\n",
       "      <td>0.0</td>\n",
       "      <td>0.0</td>\n",
       "      <td>0.0</td>\n",
       "      <td>0.0</td>\n",
       "      <td>0.0</td>\n",
       "      <td>...</td>\n",
       "      <td>0.0</td>\n",
       "      <td>0.0</td>\n",
       "      <td>0.0</td>\n",
       "      <td>0.0</td>\n",
       "      <td>0.0</td>\n",
       "      <td>0.0</td>\n",
       "      <td>0.0</td>\n",
       "      <td>0.0</td>\n",
       "      <td>0.0</td>\n",
       "      <td>0.0</td>\n",
       "    </tr>\n",
       "    <tr>\n",
       "      <th>3</th>\n",
       "      <td>0.0</td>\n",
       "      <td>0.0</td>\n",
       "      <td>0.0</td>\n",
       "      <td>0.0</td>\n",
       "      <td>0.0</td>\n",
       "      <td>0.0</td>\n",
       "      <td>0.0</td>\n",
       "      <td>0.0</td>\n",
       "      <td>0.0</td>\n",
       "      <td>0.0</td>\n",
       "      <td>...</td>\n",
       "      <td>0.0</td>\n",
       "      <td>0.0</td>\n",
       "      <td>0.0</td>\n",
       "      <td>0.0</td>\n",
       "      <td>0.0</td>\n",
       "      <td>0.0</td>\n",
       "      <td>0.0</td>\n",
       "      <td>0.0</td>\n",
       "      <td>0.0</td>\n",
       "      <td>0.0</td>\n",
       "    </tr>\n",
       "    <tr>\n",
       "      <th>4</th>\n",
       "      <td>0.0</td>\n",
       "      <td>0.0</td>\n",
       "      <td>0.0</td>\n",
       "      <td>0.0</td>\n",
       "      <td>0.0</td>\n",
       "      <td>0.0</td>\n",
       "      <td>0.0</td>\n",
       "      <td>0.0</td>\n",
       "      <td>0.0</td>\n",
       "      <td>0.0</td>\n",
       "      <td>...</td>\n",
       "      <td>0.0</td>\n",
       "      <td>0.0</td>\n",
       "      <td>0.0</td>\n",
       "      <td>0.0</td>\n",
       "      <td>0.0</td>\n",
       "      <td>0.0</td>\n",
       "      <td>0.0</td>\n",
       "      <td>0.0</td>\n",
       "      <td>0.0</td>\n",
       "      <td>0.0</td>\n",
       "    </tr>\n",
       "  </tbody>\n",
       "</table>\n",
       "<p>5 rows × 35419 columns</p>\n",
       "</div>"
      ],
      "text/plain": [
       "   aaas  aabda  aabvmmq  aachecar  aaer  aafco  aaiabe  aaigrcrb  aaihmqv  \\\n",
       "0   0.0    0.0      0.0       0.0   0.0    0.0     0.0       0.0      0.0   \n",
       "1   0.0    0.0      0.0       0.0   0.0    0.0     0.0       0.0      0.0   \n",
       "2   0.0    0.0      0.0       0.0   0.0    0.0     0.0       0.0      0.0   \n",
       "3   0.0    0.0      0.0       0.0   0.0    0.0     0.0       0.0      0.0   \n",
       "4   0.0    0.0      0.0       0.0   0.0    0.0     0.0       0.0      0.0   \n",
       "\n",
       "   aaldano  ...  zxklh  zyban  zyjvit  zykfe  zynve  zyqtaqlt  zyrtec  \\\n",
       "0      0.0  ...    0.0    0.0     0.0    0.0    0.0       0.0     0.0   \n",
       "1      0.0  ...    0.0    0.0     0.0    0.0    0.0       0.0     0.0   \n",
       "2      0.0  ...    0.0    0.0     0.0    0.0    0.0       0.0     0.0   \n",
       "3      0.0  ...    0.0    0.0     0.0    0.0    0.0       0.0     0.0   \n",
       "4      0.0  ...    0.0    0.0     0.0    0.0    0.0       0.0     0.0   \n",
       "\n",
       "   zyyqywp  zzso  zzsyt  \n",
       "0      0.0   0.0    0.0  \n",
       "1      0.0   0.0    0.0  \n",
       "2      0.0   0.0    0.0  \n",
       "3      0.0   0.0    0.0  \n",
       "4      0.0   0.0    0.0  \n",
       "\n",
       "[5 rows x 35419 columns]"
      ]
     },
     "execution_count": 45,
     "metadata": {},
     "output_type": "execute_result"
    }
   ],
   "source": [
    "cv_df = pd.DataFrame(train_bow.toarray(),columns = bow_vec.get_feature_names_out())\n",
    "cv_df.head()"
   ]
  },
  {
   "cell_type": "code",
   "execution_count": 46,
   "metadata": {
    "colab": {
     "base_uri": "https://localhost:8080/"
    },
    "executionInfo": {
     "elapsed": 67,
     "status": "ok",
     "timestamp": 1644263171532,
     "user": {
      "displayName": "Sujoy Sarkar",
      "photoUrl": "https://lh3.googleusercontent.com/a-/AOh14GjAgZ5M2sCZkfd7xWsQ5AcbHnRSPfBoAwiGQVRIahU=s64",
      "userId": "07483340281681767762"
     },
     "user_tz": -330
    },
    "id": "v0a55eE4X4NQ",
    "outputId": "fc08a85d-b824-4d4f-ace1-fe0bf8ab4390"
   },
   "outputs": [
    {
     "name": "stdout",
     "output_type": "stream",
     "text": [
      "Number of features: 35419\n"
     ]
    }
   ],
   "source": [
    "feature_names = bow_vec.get_feature_names_out()\n",
    "print(\"Number of features: {}\".format(len(feature_names)))"
   ]
  },
  {
   "cell_type": "markdown",
   "metadata": {
    "id": "6V93wJtzj834"
   },
   "source": [
    "- Try: TF-IDF Feature \n",
    "  - tfidf = TfidfVectorizer()\n",
    "\n"
   ]
  },
  {
   "cell_type": "markdown",
   "metadata": {
    "id": "Cj3EPzseZ4q_"
   },
   "source": [
    "![1 VGAoUgY28wygHsD-FXH4mg.jpeg](data:image/jpeg;base64,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)"
   ]
  },
  {
   "cell_type": "code",
   "execution_count": 46,
   "metadata": {
    "id": "Kb2NuwNNchfL"
   },
   "outputs": [],
   "source": [
    "# clf = MultinomialNB()#SVC()\n",
    "# clf.fit(X_train, y_train)\n",
    "# y_pred=clf.predict(X_test)\n",
    "# accuracy_score (y_test,y_pred )"
   ]
  },
  {
   "cell_type": "code",
   "execution_count": 1,
   "metadata": {
    "id": "qRIpVIKuYL9F"
   },
   "outputs": [
    {
     "ename": "SyntaxError",
     "evalue": "invalid syntax (1467548420.py, line 10)",
     "output_type": "error",
     "traceback": [
      "\u001b[1;36m  File \u001b[1;32m\"C:\\Users\\sksci\\AppData\\Local\\Temp\\ipykernel_23384\\1467548420.py\"\u001b[1;36m, line \u001b[1;32m10\u001b[0m\n\u001b[1;33m    'Bernoulli Naive Bayes': { 'alpha': [0.5, 1], 'fit_prior': [True, False] },\u001b[0m\n\u001b[1;37m    ^\u001b[0m\n\u001b[1;31mSyntaxError\u001b[0m\u001b[1;31m:\u001b[0m invalid syntax\n"
     ]
    }
   ],
   "source": [
    "## Preparing to make a pipeline \n",
    "models = {\n",
    "    'Naive Bayes': MultinomialNB(),\n",
    "    'Bernoulli Naive Bayes': BernoulliNB(),\n",
    "    'Perceptron': MLPClassifier()\n",
    "}\n",
    "\n",
    "params = {\n",
    "    0\n",
    "    'Bernoulli Naive Bayes': { 'alpha': [0.5, 1], 'fit_prior': [True, False] },\n",
    "    'Perceptron': { 'activation': ['tanh', 'relu'] }\n",
    "}"
   ]
  },
  {
   "cell_type": "code",
   "execution_count": null,
   "metadata": {
    "id": "HGBKAltkbr9O"
   },
   "outputs": [],
   "source": [
    "# Use multiple classifiers and grid search for prediction\n",
    "def ML_modeling(models, params, X_train, X_test, y_train, y_test, performance_metrics):    \n",
    "    \n",
    "    if not set(models.keys()).issubset(set(params.keys())):\n",
    "        raise ValueError('Some estimators are missing parameters')\n",
    "\n",
    "    for key in models.keys():\n",
    "    \n",
    "        model = models[key]\n",
    "        param = params[key]\n",
    "\n",
    "        gs = GridSearchCV(model, param, cv=10, error_score=0, refit=True)\n",
    "        gs.fit(X_train, y_train)\n",
    "        y_pred = gs.predict(X_test)\n",
    "        \n",
    "        # Print scores for the classifier\n",
    "        accuracy_sc = accuracy_score(y_test, y_pred)\n",
    "        precision_sc= precision_score(y_test, y_pred, average='macro')\n",
    "        recall_sc = recall_score(y_test, y_pred, average='macro')\n",
    "        f1_sc =  f1_score(y_test, y_pred, average='macro')\n",
    "        \n",
    "        performance_metrics.append([key,accuracy_sc,precision_sc,recall_sc,f1_sc])\n",
    "        print(key, ':', gs.best_params_)\n",
    "        print(\"Accuracy: %1.3f \\tPrecision: %1.3f \\tRecall: %1.3f \\t\\tF1: %1.3f\\n\" % (accuracy_sc, precision_sc, recall_sc, f1_sc))\n",
    "        \n",
    "    return "
   ]
  },
  {
   "cell_type": "code",
   "execution_count": null,
   "metadata": {
    "colab": {
     "base_uri": "https://localhost:8080/",
     "height": 965
    },
    "executionInfo": {
     "elapsed": 1783206,
     "status": "ok",
     "timestamp": 1644266303966,
     "user": {
      "displayName": "Sujoy Sarkar",
      "photoUrl": "https://lh3.googleusercontent.com/a-/AOh14GjAgZ5M2sCZkfd7xWsQ5AcbHnRSPfBoAwiGQVRIahU=s64",
      "userId": "07483340281681767762"
     },
     "user_tz": -330
    },
    "id": "kJBkXSWUcXII",
    "outputId": "512d6ba0-58e7-428a-b053-c7c013a14eee"
   },
   "outputs": [
    {
     "name": "stdout",
     "output_type": "stream",
     "text": [
      "==============Bag of Words==============\n",
      "\n",
      "Naive Bayes : {'alpha': 0.5, 'fit_prior': False}\n",
      "Accuracy: 0.974 \tPrecision: 0.974 \tRecall: 0.964 \t\tF1: 0.969\n",
      "\n"
     ]
    },
    {
     "data": {
      "image/png": "[encoded data removed]",
      "text/plain": [
       "<Figure size 432x288 with 2 Axes>"
      ]
     },
     "metadata": {
      "needs_background": "light"
     },
     "output_type": "display_data"
    },
    {
     "name": "stdout",
     "output_type": "stream",
     "text": [
      "Bernoulli Naive Bayes : {'alpha': 0.5, 'fit_prior': False}\n",
      "Accuracy: 0.846 \tPrecision: 0.876 \tRecall: 0.758 \t\tF1: 0.788\n",
      "\n"
     ]
    },
    {
     "data": {
      "image/png": "[encoded data removed]",
      "text/plain": [
       "<Figure size 432x288 with 2 Axes>"
      ]
     },
     "metadata": {
      "needs_background": "light"
     },
     "output_type": "display_data"
    },
    {
     "name": "stdout",
     "output_type": "stream",
     "text": [
      "Perceptron : {'activation': 'tanh'}\n",
      "Accuracy: 0.982 \tPrecision: 0.979 \tRecall: 0.978 \t\tF1: 0.978\n",
      "\n"
     ]
    },
    {
     "data": {
      "image/png": "[encoded data removed]",
      "text/plain": [
       "<Figure size 432x288 with 2 Axes>"
      ]
     },
     "metadata": {
      "needs_background": "light"
     },
     "output_type": "display_data"
    }
   ],
   "source": [
    "performance_metrics_bow = []\n",
    "print(\"==============Bag of Words==============\\n\")\n",
    "ML_modeling(models, params, train_bow, test_bow, y_train, y_test, performance_metrics_bow)\n",
    "metrics_bow_df = pd.DataFrame(performance_metrics_bow,columns=['Model' , 'Accuracy', 'Precision' , 'Recall', \"F1 Score\"])"
   ]
  },
  {
   "cell_type": "code",
   "execution_count": null,
   "metadata": {
    "colab": {
     "base_uri": "https://localhost:8080/",
     "height": 547
    },
    "executionInfo": {
     "elapsed": 48,
     "status": "ok",
     "timestamp": 1644266303971,
     "user": {
      "displayName": "Sujoy Sarkar",
      "photoUrl": "https://lh3.googleusercontent.com/a-/AOh14GjAgZ5M2sCZkfd7xWsQ5AcbHnRSPfBoAwiGQVRIahU=s64",
      "userId": "07483340281681767762"
     },
     "user_tz": -330
    },
    "id": "YFfA5bFnceEv",
    "outputId": "099009d9-7e39-479e-8773-923b388b837b"
   },
   "outputs": [
    {
     "data": {
      "image/png": "[encoded data removed]",
      "text/plain": [
       "<Figure size 864x576 with 4 Axes>"
      ]
     },
     "metadata": {
      "needs_background": "light"
     },
     "output_type": "display_data"
    }
   ],
   "source": [
    "f, axes = plt.subplots(2, 2, figsize=(12,8), sharey = True, sharex = True)\n",
    "\n",
    "axes[0, 0].plot(metrics_bow_df['Model'], metrics_bow_df['Accuracy'], linestyle = 'solid', linewidth = 2, label = 'Bag-Of-Words')\n",
    "axes[0, 0].set_title('Accuracy')\n",
    "\n",
    "axes[0, 1].plot(metrics_bow_df['Model'], metrics_bow_df['F1 Score'], linestyle = 'solid', linewidth = 2)\n",
    "axes[0, 1].set_title('F1-mesure')\n",
    "\n",
    "axes[1, 0].plot(metrics_bow_df['Model'], metrics_bow_df['Precision'], linestyle = 'solid', linewidth = 2)\n",
    "axes[1, 0].set_title('Precision')\n",
    "\n",
    "axes[1, 1].plot(metrics_bow_df['Model'], metrics_bow_df['Recall'], linestyle = 'solid', linewidth = 2)\n",
    "axes[1, 1].set_title('Recall')\n",
    "\n",
    "f.legend()\n",
    "f.show()"
   ]
  },
  {
   "cell_type": "markdown",
   "metadata": {
    "id": "HGIDtZzgkZUw"
   },
   "source": [
    "#Othe features"
   ]
  },
  {
   "cell_type": "code",
   "execution_count": null,
   "metadata": {
    "id": "QNokJ9XHjlKe"
   },
   "outputs": [],
   "source": [
    "from gensim.models import Word2Vec\n",
    "from tqdm import tqdm\n",
    "from warnings import filterwarnings\n",
    "filterwarnings('ignore')"
   ]
  },
  {
   "cell_type": "code",
   "execution_count": null,
   "metadata": {
    "colab": {
     "base_uri": "https://localhost:8080/"
    },
    "executionInfo": {
     "elapsed": 16,
     "status": "ok",
     "timestamp": 1644263184716,
     "user": {
      "displayName": "Sujoy Sarkar",
      "photoUrl": "https://lh3.googleusercontent.com/a-/AOh14GjAgZ5M2sCZkfd7xWsQ5AcbHnRSPfBoAwiGQVRIahU=s64",
      "userId": "07483340281681767762"
     },
     "user_tz": -330
    },
    "id": "91hOoQ0qlag6",
    "outputId": "76cd9134-9e67-4b90-af3c-9f8c8e293fd4"
   },
   "outputs": [
    {
     "name": "stderr",
     "output_type": "stream",
     "text": [
      "100%|██████████| 4136/4136 [00:00<00:00, 32884.28it/s]\n"
     ]
    }
   ],
   "source": [
    "words_in_sentences=[]\n",
    "for i in tqdm(x_train):\n",
    "    words_in_sentences.append(i.split())"
   ]
  },
  {
   "cell_type": "code",
   "execution_count": null,
   "metadata": {
    "id": "wfDHR_xSpRtz"
   },
   "outputs": [],
   "source": [
    "wv_model = Word2Vec(sentences=words_in_sentences,workers=-1)"
   ]
  },
  {
   "cell_type": "code",
   "execution_count": null,
   "metadata": {
    "colab": {
     "base_uri": "https://localhost:8080/"
    },
    "executionInfo": {
     "elapsed": 1474,
     "status": "ok",
     "timestamp": 1644263241162,
     "user": {
      "displayName": "Sujoy Sarkar",
      "photoUrl": "https://lh3.googleusercontent.com/a-/AOh14GjAgZ5M2sCZkfd7xWsQ5AcbHnRSPfBoAwiGQVRIahU=s64",
      "userId": "07483340281681767762"
     },
     "user_tz": -330
    },
    "id": "-GvH5ugkpZ-C",
    "outputId": "bff837ce-71c4-4db5-f0ad-bb8a3e4bcf77"
   },
   "outputs": [
    {
     "data": {
      "text/plain": [
       "[('mmbtus', 0.39898014068603516),\n",
       " ('trailer', 0.3825925290584564),\n",
       " ('rico', 0.3682039976119995),\n",
       " ('friend', 0.3653508722782135),\n",
       " ('santa', 0.3511229157447815),\n",
       " ('removal', 0.3478802442550659),\n",
       " ('generated', 0.33671465516090393),\n",
       " ('equal', 0.3307230770587921),\n",
       " ('mcfd', 0.3275928795337677),\n",
       " ('cousino', 0.3237266540527344)]"
      ]
     },
     "execution_count": 47,
     "metadata": {},
     "output_type": "execute_result"
    }
   ],
   "source": [
    "wv_model.wv.most_similar('lottery', topn=10)"
   ]
  },
  {
   "cell_type": "code",
   "execution_count": null,
   "metadata": {
    "colab": {
     "base_uri": "https://localhost:8080/"
    },
    "executionInfo": {
     "elapsed": 1383,
     "status": "ok",
     "timestamp": 1644263254912,
     "user": {
      "displayName": "Sujoy Sarkar",
      "photoUrl": "https://lh3.googleusercontent.com/a-/AOh14GjAgZ5M2sCZkfd7xWsQ5AcbHnRSPfBoAwiGQVRIahU=s64",
      "userId": "07483340281681767762"
     },
     "user_tz": -330
    },
    "id": "5Gyc4DHap6F2",
    "outputId": "3098ed9b-9596-4f63-a2de-b13f49d7486e"
   },
   "outputs": [
    {
     "name": "stdout",
     "output_type": "stream",
     "text": [
      "100\n",
      "[ 2.8066940e-03  1.1089418e-05 -4.1563590e-03 -3.1197050e-03\n",
      " -6.8544032e-04 -5.0650386e-04 -2.0330902e-03 -4.7606616e-03\n",
      "  2.9707202e-03  4.3348810e-03  1.4576141e-03 -4.2465543e-03\n",
      "  2.1526415e-03 -2.9894633e-03  4.0908675e-03 -2.1264141e-03\n",
      "  3.0187452e-03  4.3515661e-03 -3.4042375e-04  5.5107434e-04\n",
      "  3.3222702e-03 -2.9353655e-03  2.3798342e-03  3.9191692e-04\n",
      " -5.5000797e-04  2.2362615e-03  3.9122785e-03  1.8310891e-03\n",
      "  2.4647126e-03 -6.1061047e-04 -5.2535695e-05 -7.8517140e-04\n",
      "  1.1673633e-03  1.6734075e-03 -3.4782316e-03  9.7289681e-04\n",
      "  3.4166367e-03  1.9641966e-03 -4.1628410e-03  3.0344303e-04\n",
      " -4.2232499e-03  1.2533785e-03  4.4141798e-03  1.2164683e-03\n",
      "  1.7081163e-03 -4.0181917e-03 -4.0627387e-03  4.0656226e-03\n",
      "  1.3404834e-03 -1.3910353e-03  7.6628232e-04  2.5032116e-03\n",
      "  1.1256364e-03 -3.2968833e-03  4.4686443e-04 -2.9067453e-03\n",
      " -2.1650174e-03  4.2849504e-03  4.2407471e-03  1.9749543e-03\n",
      "  1.8733750e-04 -2.7760670e-03  2.2279944e-03  3.1411272e-04\n",
      "  3.3266828e-03  3.0902859e-03 -6.6027459e-04  4.2577623e-03\n",
      " -1.8550691e-03 -1.8554474e-03  4.0169130e-03 -1.5621625e-04\n",
      "  1.5268525e-03  2.0251370e-03  2.4870578e-03  2.2203792e-03\n",
      "  4.7352756e-03  1.2098058e-03 -4.6763420e-03  1.1649710e-04\n",
      "  4.3738862e-03  1.8266902e-03 -2.3351912e-03 -4.1578156e-03\n",
      " -1.5233207e-03 -2.5070042e-03 -1.6501186e-03 -3.2563612e-03\n",
      " -2.7726498e-03  3.8193082e-03  4.7121262e-03  4.5050043e-03\n",
      "  1.7582839e-03 -4.4433707e-03 -6.0548412e-04 -7.1401440e-04\n",
      "  1.3791495e-03  2.4145241e-03 -1.1283323e-03 -9.8990346e-04]\n"
     ]
    }
   ],
   "source": [
    "print(len(wv_model.wv.get_vector('company')))\n",
    "print(wv_model.wv.get_vector('company'))"
   ]
  },
  {
   "cell_type": "code",
   "execution_count": null,
   "metadata": {
    "colab": {
     "base_uri": "https://localhost:8080/"
    },
    "executionInfo": {
     "elapsed": 822,
     "status": "ok",
     "timestamp": 1644263262343,
     "user": {
      "displayName": "Sujoy Sarkar",
      "photoUrl": "https://lh3.googleusercontent.com/a-/AOh14GjAgZ5M2sCZkfd7xWsQ5AcbHnRSPfBoAwiGQVRIahU=s64",
      "userId": "07483340281681767762"
     },
     "user_tz": -330
    },
    "id": "IdmThc0Op6S_",
    "outputId": "b66a92fd-201a-4d9e-ff83-081cd69d9fc5"
   },
   "outputs": [
    {
     "name": "stdout",
     "output_type": "stream",
     "text": [
      "6913\n"
     ]
    }
   ],
   "source": [
    "vocab=list(wv_model.wv.vocab.keys())\n",
    "print(len(vocab))"
   ]
  },
  {
   "cell_type": "code",
   "execution_count": null,
   "metadata": {
    "id": "70r6PpbcqEwI"
   },
   "outputs": [],
   "source": [
    "def avg_w2vec(sentences):\n",
    "    transformed=[]\n",
    "    for sentence in tqdm(sentences):\n",
    "        count=0\n",
    "        vector=np.zeros(100)\n",
    "        for word in sentence.split():\n",
    "            if word in vocab:\n",
    "                vector+=wv_model.wv.get_vector(word)\n",
    "                count+=1\n",
    "        if count!=0:\n",
    "            vector/=count\n",
    "            transformed.append(vector)\n",
    "        else:\n",
    "            # print(sentence)\n",
    "            transformed.append(np.random.rand(100))\n",
    "    \n",
    "    return np.array(transformed)"
   ]
  },
  {
   "cell_type": "code",
   "execution_count": null,
   "metadata": {
    "colab": {
     "base_uri": "https://localhost:8080/"
    },
    "executionInfo": {
     "elapsed": 29142,
     "status": "ok",
     "timestamp": 1644263945933,
     "user": {
      "displayName": "Sujoy Sarkar",
      "photoUrl": "https://lh3.googleusercontent.com/a-/AOh14GjAgZ5M2sCZkfd7xWsQ5AcbHnRSPfBoAwiGQVRIahU=s64",
      "userId": "07483340281681767762"
     },
     "user_tz": -330
    },
    "id": "ZPX7osciqJUk",
    "outputId": "26acf46f-f7d2-4531-a705-244af793466d"
   },
   "outputs": [
    {
     "name": "stderr",
     "output_type": "stream",
     "text": [
      "100%|██████████| 4136/4136 [00:24<00:00, 169.70it/s]\n",
      "100%|██████████| 1035/1035 [00:05<00:00, 206.57it/s]\n"
     ]
    }
   ],
   "source": [
    "x_train_transformed=avg_w2vec(x_train)\n",
    "x_test_transformed=avg_w2vec(x_test)"
   ]
  },
  {
   "cell_type": "code",
   "execution_count": null,
   "metadata": {
    "id": "FGzCDTcDwqEf"
   },
   "outputs": [],
   "source": [
    "## Preparing to make a pipeline \n",
    "models = {\n",
    "    # 'Naive Bayes': MultinomialNB(),\n",
    "    # 'Bernoulli Naive Bayes': BernoulliNB(),\n",
    "    'Perceptron': MLPClassifier()\n",
    "}\n",
    "\n",
    "params = {\n",
    "    # 'Naive Bayes': { 'alpha': [0.5, 1], 'fit_prior': [True, False] },\n",
    "    # 'Bernoulli Naive Bayes': { 'alpha': [0.5, 1], 'fit_prior': [True, False] },\n",
    "    'Perceptron': { 'activation': ['tanh', 'relu'] }\n",
    "}"
   ]
  },
  {
   "cell_type": "markdown",
   "metadata": {
    "id": "EkIUtslTzI8B"
   },
   "source": [
    "- Can we use Naive Bayes?"
   ]
  },
  {
   "cell_type": "code",
   "execution_count": null,
   "metadata": {
    "colab": {
     "base_uri": "https://localhost:8080/",
     "height": 357
    },
    "executionInfo": {
     "elapsed": 152392,
     "status": "ok",
     "timestamp": 1644264482204,
     "user": {
      "displayName": "Sujoy Sarkar",
      "photoUrl": "https://lh3.googleusercontent.com/a-/AOh14GjAgZ5M2sCZkfd7xWsQ5AcbHnRSPfBoAwiGQVRIahU=s64",
      "userId": "07483340281681767762"
     },
     "user_tz": -330
    },
    "id": "u7iuHGsPrd22",
    "outputId": "519f6a32-d586-49ae-e89d-f866174ab556"
   },
   "outputs": [
    {
     "name": "stdout",
     "output_type": "stream",
     "text": [
      "============== Word2vec ==============\n",
      "\n",
      "Perceptron : {'activation': 'tanh'}\n",
      "Accuracy: 0.866 \tPrecision: 0.860 \tRecall: 0.811 \t\tF1: 0.830\n",
      "\n"
     ]
    },
    {
     "data": {
      "image/png": "[encoded data removed]",
      "text/plain": [
       "<Figure size 432x288 with 2 Axes>"
      ]
     },
     "metadata": {
      "needs_background": "light"
     },
     "output_type": "display_data"
    }
   ],
   "source": [
    "performance_metrics_wv = []\n",
    "print(\"============== Word2vec ==============\\n\")\n",
    "ML_modeling(models, params, x_train_transformed, x_test_transformed, y_train, y_test, performance_metrics_wv)\n",
    "metrics_bow_df = pd.DataFrame(performance_metrics_wv,columns=['Model' , 'Accuracy', 'Precision' , 'Recall', \"F1 Score\"])"
   ]
  }
 ],
 "metadata": {
  "colab": {
   "authorship_tag": "ABX9TyPPqCv+wvVAjf2a/3xBHqw1",
   "collapsed_sections": [],
   "name": "Email_spam_ham_classification.ipynb",
   "provenance": []
  },
  "kernelspec": {
   "display_name": "Python 3 (ipykernel)",
   "language": "python",
   "name": "python3"
  },
  "language_info": {
   "codemirror_mode": {
    "name": "ipython",
    "version": 3
   },
   "file_extension": ".py",
   "mimetype": "text/x-python",
   "name": "python",
   "nbconvert_exporter": "python",
   "pygments_lexer": "ipython3",
   "version": "3.10.9"
  }
 },
 "nbformat": 4,
 "nbformat_minor": 1
}
